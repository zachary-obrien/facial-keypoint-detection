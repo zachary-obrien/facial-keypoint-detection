{
 "cells": [
  {
   "cell_type": "code",
   "execution_count": 1,
   "metadata": {},
   "outputs": [
    {
     "name": "stdout",
     "output_type": "stream",
     "text": [
      "Imports Collected\n"
     ]
    }
   ],
   "source": [
    "%matplotlib inline\n",
    "from matplotlib import image\n",
    "import matplotlib.pyplot as plt\n",
    "\n",
    "import tensorflow as tf\n",
    "import tensorflow_datasets as tfds\n",
    "\n",
    "from PIL import Image, ImageOps\n",
    "import numpy as np\n",
    "import random\n",
    "\n",
    "print(\"Imports Collected\")"
   ]
  },
  {
   "cell_type": "code",
   "execution_count": 2,
   "metadata": {
    "pycharm": {
     "name": "#%%\n"
    }
   },
   "outputs": [
    {
     "name": "stdout",
     "output_type": "stream",
     "text": [
      "TensorFlow version: 2.7.0\n",
      "Eager execution: True\n",
      "Num GPUs Available:  1\n"
     ]
    },
    {
     "data": {
      "text/plain": "[PhysicalDevice(name='/physical_device:GPU:0', device_type='GPU')]"
     },
     "execution_count": 2,
     "metadata": {},
     "output_type": "execute_result"
    }
   ],
   "source": [
    "print(\"TensorFlow version: {}\".format(tf.__version__))\n",
    "print(\"Eager execution: {}\".format(tf.executing_eagerly()))\n",
    "print(\"Num GPUs Available: \", len(tf.config.experimental.list_physical_devices('GPU')))\n",
    "tf.config.list_physical_devices('GPU')"
   ]
  },
  {
   "cell_type": "code",
   "execution_count": 3,
   "metadata": {
    "pycharm": {
     "name": "#%%\n"
    }
   },
   "outputs": [],
   "source": [
    "data_folder = '/Users/zacharyobrien/thesis_work/thesis_dataset/'\n",
    "image_folder = '/Users/zacharyobrien/thesis_work/thesis_dataset/images/'\n",
    "numpy_array_folder = '/Users/zacharyobrien/thesis_work/thesis_dataset/numpy_arrays/'"
   ]
  },
  {
   "cell_type": "code",
   "execution_count": 4,
   "metadata": {
    "pycharm": {
     "name": "#%%\n"
    }
   },
   "outputs": [
    {
     "name": "stdout",
     "output_type": "stream",
     "text": [
      "Metal device set to: Apple M1\n",
      "Loaded\n"
     ]
    },
    {
     "name": "stderr",
     "output_type": "stream",
     "text": [
      "2022-01-06 11:39:07.679981: I tensorflow/core/common_runtime/pluggable_device/pluggable_device_factory.cc:305] Could not identify NUMA node of platform GPU ID 0, defaulting to 0. Your kernel may not have been built with NUMA support.\n",
      "2022-01-06 11:39:07.680074: I tensorflow/core/common_runtime/pluggable_device/pluggable_device_factory.cc:271] Created TensorFlow device (/job:localhost/replica:0/task:0/device:GPU:0 with 0 MB memory) -> physical PluggableDevice (device: 0, name: METAL, pci bus id: <undefined>)\n"
     ]
    }
   ],
   "source": [
    "ds_train, ds_info = tfds.load(\n",
    "    'the300w_lp',\n",
    "    split=['train'],\n",
    "    shuffle_files=True,\n",
    "    with_info=True,\n",
    ")\n",
    "print(\"Loaded\")"
   ]
  },
  {
   "cell_type": "code",
   "execution_count": 5,
   "metadata": {
    "pycharm": {
     "name": "#%%\n"
    }
   },
   "outputs": [
    {
     "name": "stdout",
     "output_type": "stream",
     "text": [
      "<class 'list'>\n",
      "<class 'tensorflow.python.data.ops.dataset_ops._OptionsDataset'>\n",
      "61225\n"
     ]
    }
   ],
   "source": [
    "print(type(ds_train))\n",
    "print(type(ds_train[0]))\n",
    "#print(ds_info)\n",
    "print(len(ds_train[0]))"
   ]
  },
  {
   "cell_type": "code",
   "execution_count": 6,
   "metadata": {
    "pycharm": {
     "name": "#%%\n"
    }
   },
   "outputs": [
    {
     "name": "stdout",
     "output_type": "stream",
     "text": [
      "Starting export of images and landmarks\n",
      "(68, 2)\n",
      "Finished export of images and landmarks\n"
     ]
    },
    {
     "name": "stderr",
     "output_type": "stream",
     "text": [
      "2022-01-06 11:39:10.658546: W tensorflow/core/platform/profile_utils/cpu_utils.cc:128] Failed to get CPU frequency: 0 Hz\n"
     ]
    }
   ],
   "source": [
    "test_entry = None\n",
    "num_entries = 61226\n",
    "percent = int(num_entries / 100)\n",
    "train_percent = 80\n",
    "out_size = (256, 256)\n",
    "print(\"Starting export of images and landmarks\")\n",
    "\n",
    "for index, entry in enumerate(ds_train[0]):\n",
    "    # Comment out if you need to rerun, but putting\n",
    "    # this here for accidents:\n",
    "    # break\n",
    "\n",
    "    train_test_choice = random.randint(0, 100)\n",
    "    output_folder = data_folder + \"train/\"\n",
    "    if train_test_choice > train_percent:\n",
    "        output_folder = data_folder + \"test/\"\n",
    "\n",
    "    #this is the actual code\n",
    "    num_entries -= 1\n",
    "    test_entry = entry\n",
    "    image_array = entry['image'].numpy()\n",
    "    im = Image.fromarray(image_array)\n",
    "    im = im.resize(out_size)\n",
    "    image_filename = output_folder + str(index) + \".jpeg\"\n",
    "    #im.save(image_filename)\n",
    "\n",
    "    facial_features = entry['landmarks_2d']\n",
    "    print(facial_features.shape)\n",
    "    break\n",
    "    output_facial_features = []\n",
    "    for x,y in facial_features:\n",
    "        x = int(x * im.size[0])\n",
    "        y = int(y * im.size[1])\n",
    "    np_filename = output_folder + str(index) + \".npy\"\n",
    "    np.save(np_filename, facial_features)\n",
    "    if num_entries == 0:\n",
    "        break\n",
    "    elif num_entries % percent == 0:\n",
    "        print((100 - int(num_entries / percent)), \"% complete\")\n",
    "\n",
    "print(\"Finished export of images and landmarks\")"
   ]
  },
  {
   "cell_type": "code",
   "execution_count": null,
   "metadata": {
    "pycharm": {
     "name": "#%%\n"
    }
   },
   "outputs": [],
   "source": [
    "# test_image = test_entry['image']\n",
    "# test_landmarks = test_entry['landmarks_2d']"
   ]
  },
  {
   "cell_type": "code",
   "execution_count": null,
   "metadata": {
    "pycharm": {
     "name": "#%%\n"
    }
   },
   "outputs": [],
   "source": [
    "#print(test_image.shape)"
   ]
  },
  {
   "cell_type": "code",
   "execution_count": 7,
   "metadata": {
    "pycharm": {
     "name": "#%%\n"
    }
   },
   "outputs": [
    {
     "ename": "FileNotFoundError",
     "evalue": "[Errno 2] No such file or directory: '/Users/zacharyobrien/thesis_work/thesis_dataset/images/57106.jpeg'",
     "output_type": "error",
     "traceback": [
      "\u001B[0;31m---------------------------------------------------------------------------\u001B[0m",
      "\u001B[0;31mFileNotFoundError\u001B[0m                         Traceback (most recent call last)",
      "\u001B[0;32m/var/folders/tm/mxj8z53n0pbbt53crmv3xpl00000gn/T/ipykernel_60281/1584441043.py\u001B[0m in \u001B[0;36m<module>\u001B[0;34m\u001B[0m\n\u001B[1;32m      1\u001B[0m \u001B[0mimage_num\u001B[0m \u001B[0;34m=\u001B[0m \u001B[0mrandom\u001B[0m\u001B[0;34m.\u001B[0m\u001B[0mrandint\u001B[0m\u001B[0;34m(\u001B[0m\u001B[0;36m0\u001B[0m\u001B[0;34m,\u001B[0m \u001B[0;36m61226\u001B[0m\u001B[0;34m)\u001B[0m\u001B[0;34m\u001B[0m\u001B[0;34m\u001B[0m\u001B[0m\n\u001B[1;32m      2\u001B[0m \u001B[0;34m\u001B[0m\u001B[0m\n\u001B[0;32m----> 3\u001B[0;31m \u001B[0mog_image\u001B[0m \u001B[0;34m=\u001B[0m \u001B[0mImage\u001B[0m\u001B[0;34m.\u001B[0m\u001B[0mopen\u001B[0m\u001B[0;34m(\u001B[0m\u001B[0mimage_folder\u001B[0m \u001B[0;34m+\u001B[0m \u001B[0mstr\u001B[0m\u001B[0;34m(\u001B[0m\u001B[0mimage_num\u001B[0m\u001B[0;34m)\u001B[0m \u001B[0;34m+\u001B[0m \u001B[0;34m\".jpeg\"\u001B[0m\u001B[0;34m)\u001B[0m\u001B[0;34m\u001B[0m\u001B[0;34m\u001B[0m\u001B[0m\n\u001B[0m\u001B[1;32m      4\u001B[0m \u001B[0msaved_image\u001B[0m \u001B[0;34m=\u001B[0m \u001B[0mImageOps\u001B[0m\u001B[0;34m.\u001B[0m\u001B[0mgrayscale\u001B[0m\u001B[0;34m(\u001B[0m\u001B[0mog_image\u001B[0m\u001B[0;34m)\u001B[0m\u001B[0;34m\u001B[0m\u001B[0;34m\u001B[0m\u001B[0m\n\u001B[1;32m      5\u001B[0m \u001B[0msaved_landmarks\u001B[0m \u001B[0;34m=\u001B[0m \u001B[0mnp\u001B[0m\u001B[0;34m.\u001B[0m\u001B[0mload\u001B[0m\u001B[0;34m(\u001B[0m\u001B[0mnumpy_array_folder\u001B[0m \u001B[0;34m+\u001B[0m \u001B[0mstr\u001B[0m\u001B[0;34m(\u001B[0m\u001B[0mimage_num\u001B[0m\u001B[0;34m)\u001B[0m \u001B[0;34m+\u001B[0m \u001B[0;34m'.npy'\u001B[0m\u001B[0;34m)\u001B[0m\u001B[0;34m\u001B[0m\u001B[0;34m\u001B[0m\u001B[0m\n",
      "\u001B[0;32m~/miniforge3/envs/facial-keypoint-detection/lib/python3.8/site-packages/PIL/Image.py\u001B[0m in \u001B[0;36mopen\u001B[0;34m(fp, mode, formats)\u001B[0m\n\u001B[1;32m   2973\u001B[0m \u001B[0;34m\u001B[0m\u001B[0m\n\u001B[1;32m   2974\u001B[0m     \u001B[0;32mif\u001B[0m \u001B[0mfilename\u001B[0m\u001B[0;34m:\u001B[0m\u001B[0;34m\u001B[0m\u001B[0;34m\u001B[0m\u001B[0m\n\u001B[0;32m-> 2975\u001B[0;31m         \u001B[0mfp\u001B[0m \u001B[0;34m=\u001B[0m \u001B[0mbuiltins\u001B[0m\u001B[0;34m.\u001B[0m\u001B[0mopen\u001B[0m\u001B[0;34m(\u001B[0m\u001B[0mfilename\u001B[0m\u001B[0;34m,\u001B[0m \u001B[0;34m\"rb\"\u001B[0m\u001B[0;34m)\u001B[0m\u001B[0;34m\u001B[0m\u001B[0;34m\u001B[0m\u001B[0m\n\u001B[0m\u001B[1;32m   2976\u001B[0m         \u001B[0mexclusive_fp\u001B[0m \u001B[0;34m=\u001B[0m \u001B[0;32mTrue\u001B[0m\u001B[0;34m\u001B[0m\u001B[0;34m\u001B[0m\u001B[0m\n\u001B[1;32m   2977\u001B[0m \u001B[0;34m\u001B[0m\u001B[0m\n",
      "\u001B[0;31mFileNotFoundError\u001B[0m: [Errno 2] No such file or directory: '/Users/zacharyobrien/thesis_work/thesis_dataset/images/57106.jpeg'"
     ]
    }
   ],
   "source": [
    "image_num = random.randint(0, 61226)\n",
    "\n",
    "og_image = Image.open(image_folder + str(image_num) + \".jpeg\")\n",
    "saved_image = ImageOps.grayscale(og_image)\n",
    "saved_landmarks = np.load(numpy_array_folder + str(image_num) + '.npy')\n",
    "# to draw a point on co-ordinate (200,300)\n",
    "for x,y in saved_landmarks:\n",
    "    x = x * saved_image.size[0]\n",
    "    y = y * saved_image.size[1]\n",
    "    plt.plot(x, y, marker='o', color=\"white\", markersize=1)\n",
    "\n",
    "plt.imshow(saved_image, cmap='gray')\n",
    "plt.show()\n"
   ]
  },
  {
   "cell_type": "code",
   "execution_count": null,
   "metadata": {
    "pycharm": {
     "name": "#%%\n"
    }
   },
   "outputs": [],
   "source": [
    "saved_image.size\n",
    "#ds = ds_train.shuffle(1024).batch(32).prefetch(tf.data.AUTOTUNE)"
   ]
  },
  {
   "cell_type": "code",
   "execution_count": null,
   "metadata": {
    "pycharm": {
     "name": "#%%\n"
    }
   },
   "outputs": [],
   "source": [
    "# for example in ds.take(1):\n",
    "#   image, label = example[\"image\"], example[\"label\"]\n",
    "\n"
   ]
  }
 ],
 "metadata": {
  "kernelspec": {
   "display_name": "Python 3 (ipykernel)",
   "language": "python",
   "name": "python3"
  },
  "language_info": {
   "codemirror_mode": {
    "name": "ipython",
    "version": 3
   },
   "file_extension": ".py",
   "mimetype": "text/x-python",
   "name": "python",
   "nbconvert_exporter": "python",
   "pygments_lexer": "ipython3",
   "version": "3.8.12"
  }
 },
 "nbformat": 4,
 "nbformat_minor": 1
}